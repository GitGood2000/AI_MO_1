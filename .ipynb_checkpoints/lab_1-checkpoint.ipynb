{
 "cells": [
  {
   "cell_type": "markdown",
   "metadata": {},
   "source": [
    "# Подготовка и изучение датасета"
   ]
  },
  {
   "cell_type": "markdown",
   "metadata": {},
   "source": [
    "Dataset : Titanic"
   ]
  },
  {
   "cell_type": "markdown",
   "metadata": {},
   "source": [
    "### Загружаем библиотеки "
   ]
  },
  {
   "cell_type": "code",
   "execution_count": 1,
   "metadata": {},
   "outputs": [],
   "source": [
    "from pandas import read_csv , DataFrame \n",
    "from sklearn.model_selection import train_test_split\n",
    "import matplotlib.patches as mpatches\n",
    "import matplotlib.pyplot as plt\n",
    "from sklearn.metrics import precision_score , recall_score , f1_score\n",
    "from sklearn.naive_bayes import BernoulliNB\n",
    "import numpy as np\n",
    "import scipy.spatial\n",
    "from math import pi,exp\n",
    "from collections import Counter\n",
    "from sklearn.neighbors import KNeighborsClassifier"
   ]
  },
  {
   "cell_type": "markdown",
   "metadata": {},
   "source": [
    "### Загрузка датасета и первичный анализ"
   ]
  },
  {
   "cell_type": "code",
   "execution_count": 2,
   "metadata": {},
   "outputs": [],
   "source": [
    "dataset=read_csv('train.csv')"
   ]
  },
  {
   "cell_type": "markdown",
   "metadata": {},
   "source": [
    "Выводим первые строки"
   ]
  },
  {
   "cell_type": "code",
   "execution_count": 3,
   "metadata": {},
   "outputs": [
    {
     "data": {
      "text/html": [
       "<div>\n",
       "<style scoped>\n",
       "    .dataframe tbody tr th:only-of-type {\n",
       "        vertical-align: middle;\n",
       "    }\n",
       "\n",
       "    .dataframe tbody tr th {\n",
       "        vertical-align: top;\n",
       "    }\n",
       "\n",
       "    .dataframe thead th {\n",
       "        text-align: right;\n",
       "    }\n",
       "</style>\n",
       "<table border=\"1\" class=\"dataframe\">\n",
       "  <thead>\n",
       "    <tr style=\"text-align: right;\">\n",
       "      <th></th>\n",
       "      <th>PassengerId</th>\n",
       "      <th>Survived</th>\n",
       "      <th>Pclass</th>\n",
       "      <th>Name</th>\n",
       "      <th>Sex</th>\n",
       "      <th>Age</th>\n",
       "      <th>SibSp</th>\n",
       "      <th>Parch</th>\n",
       "      <th>Ticket</th>\n",
       "      <th>Fare</th>\n",
       "      <th>Cabin</th>\n",
       "      <th>Embarked</th>\n",
       "    </tr>\n",
       "  </thead>\n",
       "  <tbody>\n",
       "    <tr>\n",
       "      <th>0</th>\n",
       "      <td>1</td>\n",
       "      <td>0</td>\n",
       "      <td>3</td>\n",
       "      <td>Braund, Mr. Owen Harris</td>\n",
       "      <td>male</td>\n",
       "      <td>22.0</td>\n",
       "      <td>1</td>\n",
       "      <td>0</td>\n",
       "      <td>A/5 21171</td>\n",
       "      <td>7.2500</td>\n",
       "      <td>NaN</td>\n",
       "      <td>S</td>\n",
       "    </tr>\n",
       "    <tr>\n",
       "      <th>1</th>\n",
       "      <td>2</td>\n",
       "      <td>1</td>\n",
       "      <td>1</td>\n",
       "      <td>Cumings, Mrs. John Bradley (Florence Briggs Th...</td>\n",
       "      <td>female</td>\n",
       "      <td>38.0</td>\n",
       "      <td>1</td>\n",
       "      <td>0</td>\n",
       "      <td>PC 17599</td>\n",
       "      <td>71.2833</td>\n",
       "      <td>C85</td>\n",
       "      <td>C</td>\n",
       "    </tr>\n",
       "    <tr>\n",
       "      <th>2</th>\n",
       "      <td>3</td>\n",
       "      <td>1</td>\n",
       "      <td>3</td>\n",
       "      <td>Heikkinen, Miss. Laina</td>\n",
       "      <td>female</td>\n",
       "      <td>26.0</td>\n",
       "      <td>0</td>\n",
       "      <td>0</td>\n",
       "      <td>STON/O2. 3101282</td>\n",
       "      <td>7.9250</td>\n",
       "      <td>NaN</td>\n",
       "      <td>S</td>\n",
       "    </tr>\n",
       "    <tr>\n",
       "      <th>3</th>\n",
       "      <td>4</td>\n",
       "      <td>1</td>\n",
       "      <td>1</td>\n",
       "      <td>Futrelle, Mrs. Jacques Heath (Lily May Peel)</td>\n",
       "      <td>female</td>\n",
       "      <td>35.0</td>\n",
       "      <td>1</td>\n",
       "      <td>0</td>\n",
       "      <td>113803</td>\n",
       "      <td>53.1000</td>\n",
       "      <td>C123</td>\n",
       "      <td>S</td>\n",
       "    </tr>\n",
       "    <tr>\n",
       "      <th>4</th>\n",
       "      <td>5</td>\n",
       "      <td>0</td>\n",
       "      <td>3</td>\n",
       "      <td>Allen, Mr. William Henry</td>\n",
       "      <td>male</td>\n",
       "      <td>35.0</td>\n",
       "      <td>0</td>\n",
       "      <td>0</td>\n",
       "      <td>373450</td>\n",
       "      <td>8.0500</td>\n",
       "      <td>NaN</td>\n",
       "      <td>S</td>\n",
       "    </tr>\n",
       "  </tbody>\n",
       "</table>\n",
       "</div>"
      ],
      "text/plain": [
       "   PassengerId  Survived  Pclass  \\\n",
       "0            1         0       3   \n",
       "1            2         1       1   \n",
       "2            3         1       3   \n",
       "3            4         1       1   \n",
       "4            5         0       3   \n",
       "\n",
       "                                                Name     Sex   Age  SibSp  \\\n",
       "0                            Braund, Mr. Owen Harris    male  22.0      1   \n",
       "1  Cumings, Mrs. John Bradley (Florence Briggs Th...  female  38.0      1   \n",
       "2                             Heikkinen, Miss. Laina  female  26.0      0   \n",
       "3       Futrelle, Mrs. Jacques Heath (Lily May Peel)  female  35.0      1   \n",
       "4                           Allen, Mr. William Henry    male  35.0      0   \n",
       "\n",
       "   Parch            Ticket     Fare Cabin Embarked  \n",
       "0      0         A/5 21171   7.2500   NaN        S  \n",
       "1      0          PC 17599  71.2833   C85        C  \n",
       "2      0  STON/O2. 3101282   7.9250   NaN        S  \n",
       "3      0            113803  53.1000  C123        S  \n",
       "4      0            373450   8.0500   NaN        S  "
      ]
     },
     "execution_count": 3,
     "metadata": {},
     "output_type": "execute_result"
    }
   ],
   "source": [
    "dataset.head()"
   ]
  },
  {
   "cell_type": "markdown",
   "metadata": {},
   "source": [
    "Смотрим размерность\n"
   ]
  },
  {
   "cell_type": "code",
   "execution_count": 4,
   "metadata": {},
   "outputs": [
    {
     "data": {
      "text/plain": [
       "(891, 12)"
      ]
     },
     "execution_count": 4,
     "metadata": {},
     "output_type": "execute_result"
    }
   ],
   "source": [
    "dataset.shape"
   ]
  },
  {
   "cell_type": "markdown",
   "metadata": {},
   "source": [
    "Выводим информацию и описание датасета"
   ]
  },
  {
   "cell_type": "code",
   "execution_count": 5,
   "metadata": {},
   "outputs": [
    {
     "name": "stdout",
     "output_type": "stream",
     "text": [
      "<class 'pandas.core.frame.DataFrame'>\n",
      "RangeIndex: 891 entries, 0 to 890\n",
      "Data columns (total 12 columns):\n",
      " #   Column       Non-Null Count  Dtype  \n",
      "---  ------       --------------  -----  \n",
      " 0   PassengerId  891 non-null    int64  \n",
      " 1   Survived     891 non-null    int64  \n",
      " 2   Pclass       891 non-null    int64  \n",
      " 3   Name         891 non-null    object \n",
      " 4   Sex          891 non-null    object \n",
      " 5   Age          714 non-null    float64\n",
      " 6   SibSp        891 non-null    int64  \n",
      " 7   Parch        891 non-null    int64  \n",
      " 8   Ticket       891 non-null    object \n",
      " 9   Fare         891 non-null    float64\n",
      " 10  Cabin        204 non-null    object \n",
      " 11  Embarked     889 non-null    object \n",
      "dtypes: float64(2), int64(5), object(5)\n",
      "memory usage: 83.7+ KB\n"
     ]
    }
   ],
   "source": [
    "dataset.info()"
   ]
  },
  {
   "cell_type": "code",
   "execution_count": 6,
   "metadata": {},
   "outputs": [
    {
     "data": {
      "text/html": [
       "<div>\n",
       "<style scoped>\n",
       "    .dataframe tbody tr th:only-of-type {\n",
       "        vertical-align: middle;\n",
       "    }\n",
       "\n",
       "    .dataframe tbody tr th {\n",
       "        vertical-align: top;\n",
       "    }\n",
       "\n",
       "    .dataframe thead th {\n",
       "        text-align: right;\n",
       "    }\n",
       "</style>\n",
       "<table border=\"1\" class=\"dataframe\">\n",
       "  <thead>\n",
       "    <tr style=\"text-align: right;\">\n",
       "      <th></th>\n",
       "      <th>PassengerId</th>\n",
       "      <th>Survived</th>\n",
       "      <th>Pclass</th>\n",
       "      <th>Age</th>\n",
       "      <th>SibSp</th>\n",
       "      <th>Parch</th>\n",
       "      <th>Fare</th>\n",
       "    </tr>\n",
       "  </thead>\n",
       "  <tbody>\n",
       "    <tr>\n",
       "      <th>count</th>\n",
       "      <td>891.000000</td>\n",
       "      <td>891.000000</td>\n",
       "      <td>891.000000</td>\n",
       "      <td>714.000000</td>\n",
       "      <td>891.000000</td>\n",
       "      <td>891.000000</td>\n",
       "      <td>891.000000</td>\n",
       "    </tr>\n",
       "    <tr>\n",
       "      <th>mean</th>\n",
       "      <td>446.000000</td>\n",
       "      <td>0.383838</td>\n",
       "      <td>2.308642</td>\n",
       "      <td>29.699118</td>\n",
       "      <td>0.523008</td>\n",
       "      <td>0.381594</td>\n",
       "      <td>32.204208</td>\n",
       "    </tr>\n",
       "    <tr>\n",
       "      <th>std</th>\n",
       "      <td>257.353842</td>\n",
       "      <td>0.486592</td>\n",
       "      <td>0.836071</td>\n",
       "      <td>14.526497</td>\n",
       "      <td>1.102743</td>\n",
       "      <td>0.806057</td>\n",
       "      <td>49.693429</td>\n",
       "    </tr>\n",
       "    <tr>\n",
       "      <th>min</th>\n",
       "      <td>1.000000</td>\n",
       "      <td>0.000000</td>\n",
       "      <td>1.000000</td>\n",
       "      <td>0.420000</td>\n",
       "      <td>0.000000</td>\n",
       "      <td>0.000000</td>\n",
       "      <td>0.000000</td>\n",
       "    </tr>\n",
       "    <tr>\n",
       "      <th>25%</th>\n",
       "      <td>223.500000</td>\n",
       "      <td>0.000000</td>\n",
       "      <td>2.000000</td>\n",
       "      <td>20.125000</td>\n",
       "      <td>0.000000</td>\n",
       "      <td>0.000000</td>\n",
       "      <td>7.910400</td>\n",
       "    </tr>\n",
       "    <tr>\n",
       "      <th>50%</th>\n",
       "      <td>446.000000</td>\n",
       "      <td>0.000000</td>\n",
       "      <td>3.000000</td>\n",
       "      <td>28.000000</td>\n",
       "      <td>0.000000</td>\n",
       "      <td>0.000000</td>\n",
       "      <td>14.454200</td>\n",
       "    </tr>\n",
       "    <tr>\n",
       "      <th>75%</th>\n",
       "      <td>668.500000</td>\n",
       "      <td>1.000000</td>\n",
       "      <td>3.000000</td>\n",
       "      <td>38.000000</td>\n",
       "      <td>1.000000</td>\n",
       "      <td>0.000000</td>\n",
       "      <td>31.000000</td>\n",
       "    </tr>\n",
       "    <tr>\n",
       "      <th>max</th>\n",
       "      <td>891.000000</td>\n",
       "      <td>1.000000</td>\n",
       "      <td>3.000000</td>\n",
       "      <td>80.000000</td>\n",
       "      <td>8.000000</td>\n",
       "      <td>6.000000</td>\n",
       "      <td>512.329200</td>\n",
       "    </tr>\n",
       "  </tbody>\n",
       "</table>\n",
       "</div>"
      ],
      "text/plain": [
       "       PassengerId    Survived      Pclass         Age       SibSp  \\\n",
       "count   891.000000  891.000000  891.000000  714.000000  891.000000   \n",
       "mean    446.000000    0.383838    2.308642   29.699118    0.523008   \n",
       "std     257.353842    0.486592    0.836071   14.526497    1.102743   \n",
       "min       1.000000    0.000000    1.000000    0.420000    0.000000   \n",
       "25%     223.500000    0.000000    2.000000   20.125000    0.000000   \n",
       "50%     446.000000    0.000000    3.000000   28.000000    0.000000   \n",
       "75%     668.500000    1.000000    3.000000   38.000000    1.000000   \n",
       "max     891.000000    1.000000    3.000000   80.000000    8.000000   \n",
       "\n",
       "            Parch        Fare  \n",
       "count  891.000000  891.000000  \n",
       "mean     0.381594   32.204208  \n",
       "std      0.806057   49.693429  \n",
       "min      0.000000    0.000000  \n",
       "25%      0.000000    7.910400  \n",
       "50%      0.000000   14.454200  \n",
       "75%      0.000000   31.000000  \n",
       "max      6.000000  512.329200  "
      ]
     },
     "execution_count": 6,
     "metadata": {},
     "output_type": "execute_result"
    }
   ],
   "source": [
    "dataset.describe()"
   ]
  },
  {
   "cell_type": "markdown",
   "metadata": {},
   "source": [
    "###  Смотрим частотности некотрых столбцов и проверяем на наличие нулевых/пустых значений \n"
   ]
  },
  {
   "cell_type": "code",
   "execution_count": 7,
   "metadata": {},
   "outputs": [
    {
     "data": {
      "text/plain": [
       "0    549\n",
       "1    342\n",
       "Name: Survived, dtype: int64"
      ]
     },
     "execution_count": 7,
     "metadata": {},
     "output_type": "execute_result"
    }
   ],
   "source": [
    "#сколько выжило , сколько умерло\n",
    "dataset['Survived'].value_counts()"
   ]
  },
  {
   "cell_type": "code",
   "execution_count": 8,
   "metadata": {},
   "outputs": [
    {
     "data": {
      "text/plain": [
       "3    491\n",
       "1    216\n",
       "2    184\n",
       "Name: Pclass, dtype: int64"
      ]
     },
     "execution_count": 8,
     "metadata": {},
     "output_type": "execute_result"
    }
   ],
   "source": [
    "#смотрим частотность каждого класса в карабле \n",
    "dataset['Pclass'].value_counts()"
   ]
  },
  {
   "cell_type": "code",
   "execution_count": 9,
   "metadata": {},
   "outputs": [
    {
     "data": {
      "text/plain": [
       "male      577\n",
       "female    314\n",
       "Name: Sex, dtype: int64"
      ]
     },
     "execution_count": 9,
     "metadata": {},
     "output_type": "execute_result"
    }
   ],
   "source": [
    "#смотрим частотность полов\n",
    "dataset['Sex'].value_counts()"
   ]
  },
  {
   "cell_type": "code",
   "execution_count": 10,
   "metadata": {},
   "outputs": [
    {
     "data": {
      "text/plain": [
       "24.00    30\n",
       "22.00    27\n",
       "18.00    26\n",
       "19.00    25\n",
       "30.00    25\n",
       "         ..\n",
       "55.50     1\n",
       "70.50     1\n",
       "66.00     1\n",
       "23.50     1\n",
       "0.42      1\n",
       "Name: Age, Length: 88, dtype: int64"
      ]
     },
     "execution_count": 10,
     "metadata": {},
     "output_type": "execute_result"
    }
   ],
   "source": [
    "#частотность возрастов пассажиров\n",
    "dataset['Age'].value_counts()"
   ]
  },
  {
   "cell_type": "code",
   "execution_count": 11,
   "metadata": {},
   "outputs": [
    {
     "data": {
      "text/plain": [
       "0.19865319865319866"
      ]
     },
     "execution_count": 11,
     "metadata": {},
     "output_type": "execute_result"
    }
   ],
   "source": [
    "#проверяем на наличие пропусков в столбце , если значение будет отлично от 0, значит в столбце есть пропуски\n",
    "(dataset['Age'].isnull()).mean()"
   ]
  },
  {
   "cell_type": "code",
   "execution_count": 12,
   "metadata": {},
   "outputs": [
    {
     "data": {
      "text/plain": [
       "0.0"
      ]
     },
     "execution_count": 12,
     "metadata": {},
     "output_type": "execute_result"
    }
   ],
   "source": [
    "#проверяем на наличие пропусков в столбце , если значение будет отлично от 0, значит в столбце есть пропуски\n",
    "(dataset['SibSp'].isnull()).mean()"
   ]
  },
  {
   "cell_type": "code",
   "execution_count": 13,
   "metadata": {},
   "outputs": [
    {
     "data": {
      "text/plain": [
       "0    608\n",
       "1    209\n",
       "2     28\n",
       "4     18\n",
       "3     16\n",
       "8      7\n",
       "5      5\n",
       "Name: SibSp, dtype: int64"
      ]
     },
     "execution_count": 13,
     "metadata": {},
     "output_type": "execute_result"
    }
   ],
   "source": [
    "#смотрим частотность\n",
    "dataset['SibSp'].value_counts()"
   ]
  },
  {
   "cell_type": "code",
   "execution_count": 14,
   "metadata": {},
   "outputs": [
    {
     "data": {
      "text/plain": [
       "0.0"
      ]
     },
     "execution_count": 14,
     "metadata": {},
     "output_type": "execute_result"
    }
   ],
   "source": [
    "#проверяем на наличие пропусков в столбце , если значение будет отлично от 0, значит в столбце есть пропуски\n",
    "(dataset['Parch'].isnull()).mean()"
   ]
  },
  {
   "cell_type": "code",
   "execution_count": 15,
   "metadata": {},
   "outputs": [
    {
     "data": {
      "text/plain": [
       "0    678\n",
       "1    118\n",
       "2     80\n",
       "5      5\n",
       "3      5\n",
       "4      4\n",
       "6      1\n",
       "Name: Parch, dtype: int64"
      ]
     },
     "execution_count": 15,
     "metadata": {},
     "output_type": "execute_result"
    }
   ],
   "source": [
    "#смотрим частотность\n",
    "dataset['Parch'].value_counts()"
   ]
  },
  {
   "cell_type": "code",
   "execution_count": 16,
   "metadata": {},
   "outputs": [
    {
     "data": {
      "text/plain": [
       "0.0"
      ]
     },
     "execution_count": 16,
     "metadata": {},
     "output_type": "execute_result"
    }
   ],
   "source": [
    "#проверяем на наличие пропусков в столбце , если значение будет отлично от 0, значит в столбце есть пропуски\n",
    "(dataset['Fare'].isnull()).mean()"
   ]
  },
  {
   "cell_type": "code",
   "execution_count": 17,
   "metadata": {},
   "outputs": [
    {
     "data": {
      "text/plain": [
       "8.0500     43\n",
       "13.0000    42\n",
       "7.8958     38\n",
       "7.7500     34\n",
       "26.0000    31\n",
       "           ..\n",
       "8.4583      1\n",
       "9.8375      1\n",
       "8.3625      1\n",
       "14.1083     1\n",
       "17.4000     1\n",
       "Name: Fare, Length: 248, dtype: int64"
      ]
     },
     "execution_count": 17,
     "metadata": {},
     "output_type": "execute_result"
    }
   ],
   "source": [
    "#смотрим частотность\n",
    "dataset['Fare'].value_counts()"
   ]
  },
  {
   "cell_type": "code",
   "execution_count": 18,
   "metadata": {},
   "outputs": [
    {
     "data": {
      "text/plain": [
       "0.7710437710437711"
      ]
     },
     "execution_count": 18,
     "metadata": {},
     "output_type": "execute_result"
    }
   ],
   "source": [
    "#проверяем на наличие пропусков в столбце , если значение будет отлично от 0, значит в столбце есть пропуски\n",
    "(dataset['Cabin'].isnull()).mean()"
   ]
  },
  {
   "cell_type": "code",
   "execution_count": 19,
   "metadata": {},
   "outputs": [
    {
     "data": {
      "text/plain": [
       "C23 C25 C27    4\n",
       "B96 B98        4\n",
       "G6             4\n",
       "D              3\n",
       "F33            3\n",
       "              ..\n",
       "C47            1\n",
       "E36            1\n",
       "B38            1\n",
       "D10 D12        1\n",
       "B39            1\n",
       "Name: Cabin, Length: 147, dtype: int64"
      ]
     },
     "execution_count": 19,
     "metadata": {},
     "output_type": "execute_result"
    }
   ],
   "source": [
    "#смотрим частотность\n",
    "dataset['Cabin'].value_counts()"
   ]
  },
  {
   "cell_type": "code",
   "execution_count": 20,
   "metadata": {},
   "outputs": [
    {
     "data": {
      "text/plain": [
       "0.002244668911335578"
      ]
     },
     "execution_count": 20,
     "metadata": {},
     "output_type": "execute_result"
    }
   ],
   "source": [
    "#проверяем на наличие пропусков в столбце , если значение будет отлично от 0, значит в столбце есть пропуски\n",
    "(dataset['Embarked'].isnull()).mean()"
   ]
  },
  {
   "cell_type": "code",
   "execution_count": 21,
   "metadata": {},
   "outputs": [
    {
     "data": {
      "text/plain": [
       "S    644\n",
       "C    168\n",
       "Q     77\n",
       "Name: Embarked, dtype: int64"
      ]
     },
     "execution_count": 21,
     "metadata": {},
     "output_type": "execute_result"
    }
   ],
   "source": [
    "#смотрим частотность\n",
    "dataset['Embarked'].value_counts()"
   ]
  },
  {
   "cell_type": "markdown",
   "metadata": {},
   "source": [
    "### Описание столбцов датасата\n",
    "- Passengerid - это id пассажира.\n",
    "- Survived - столбец, говорит о том выжил ли пассажир,  принимает значение 0 или 1 . 1 если выжил , 0 если нет. Является целивой перменной, которую будем предсказывать. Только 342 человека выжило \n",
    "- Pclass - фича, говорящая о том ,к какому классу в корабле относится пассажир. Может принимать значения 1,2,3. В основном люди 3 класса\n",
    "- Name- имя пассажира.\n",
    "- Sex - пол пассажира. Мужчин больше чем женщин\n",
    "- Age - возраст пассажира. 5 самых распрастараненных возрастов 24, 22, 18, 18 , 30. В этом столбце есть пропуски.\n",
    "- SibSp — содержит информацию о количестве родственников 2-го порядка (муж, жена, братья, сетры).Пропусков нет. Большинство       пассажиров не имеют родственников. 209 имеют только одного родственника\n",
    "- Parch-содержит информацию о количестве родственников на борту 1-го порядка (мать, отец, дети). У большинства людей нет на       борту родственников первого порядка\n",
    "- Ticket- код билета пассажира\n",
    "- Fare - цена билета. Пропусков в данных нету. 5 самые частые цен на билет 8.0500, 3.0000, 7.8958, 7.7500, 26.0000.\n",
    "- Cabin- вид каюты пассажира. Пропусков данных очень много, порядка 77%.\n",
    "- Embarked- порт посадки. Есть немного пропусков. Возможные значения S,C,Q, где C — Cherbourg, Q — Queenstown, S — Southampton.\n",
    "  Самый частый порт посадки S — Southampton\n",
    "\n",
    "\n",
    "\n"
   ]
  },
  {
   "cell_type": "markdown",
   "metadata": {},
   "source": [
    "### Выводы из первичного анализа данных\n",
    "- Passengerid удаляем, потому что у датасета и так есть индексы, а id пассажира не дает нам никакой дополнительной полезной информации\n",
    "- Name удаляем. Т к это категориальная переменная , где количество категорий  равно количеству пассажиров. Бесполезная фича\n",
    "- Sex принимает значения male и female. их Мы переведем в такой вид. male -1 , female-0\n",
    "- Age в пропусках заполним через среднее.\n",
    "- Ticket удаляем , по той же причине, что и Name\n",
    "- Cabin может быть преобразована в логическое значение\n",
    "- Embarked - порт посадки пропуски заполню через самое часто встречаемое значение."
   ]
  },
  {
   "cell_type": "markdown",
   "metadata": {},
   "source": [
    "## Преобразования признаков исходя из выводов и визуализация распределений"
   ]
  },
  {
   "cell_type": "markdown",
   "metadata": {},
   "source": [
    "### Преобразования"
   ]
  },
  {
   "cell_type": "code",
   "execution_count": 22,
   "metadata": {},
   "outputs": [
    {
     "data": {
      "text/html": [
       "<div>\n",
       "<style scoped>\n",
       "    .dataframe tbody tr th:only-of-type {\n",
       "        vertical-align: middle;\n",
       "    }\n",
       "\n",
       "    .dataframe tbody tr th {\n",
       "        vertical-align: top;\n",
       "    }\n",
       "\n",
       "    .dataframe thead th {\n",
       "        text-align: right;\n",
       "    }\n",
       "</style>\n",
       "<table border=\"1\" class=\"dataframe\">\n",
       "  <thead>\n",
       "    <tr style=\"text-align: right;\">\n",
       "      <th></th>\n",
       "      <th>Survived</th>\n",
       "      <th>Pclass</th>\n",
       "      <th>Sex</th>\n",
       "      <th>Age</th>\n",
       "      <th>SibSp</th>\n",
       "      <th>Parch</th>\n",
       "      <th>Fare</th>\n",
       "      <th>Cabin</th>\n",
       "      <th>Embarked</th>\n",
       "    </tr>\n",
       "  </thead>\n",
       "  <tbody>\n",
       "    <tr>\n",
       "      <th>0</th>\n",
       "      <td>0</td>\n",
       "      <td>3</td>\n",
       "      <td>male</td>\n",
       "      <td>22.0</td>\n",
       "      <td>1</td>\n",
       "      <td>0</td>\n",
       "      <td>7.2500</td>\n",
       "      <td>NaN</td>\n",
       "      <td>S</td>\n",
       "    </tr>\n",
       "    <tr>\n",
       "      <th>1</th>\n",
       "      <td>1</td>\n",
       "      <td>1</td>\n",
       "      <td>female</td>\n",
       "      <td>38.0</td>\n",
       "      <td>1</td>\n",
       "      <td>0</td>\n",
       "      <td>71.2833</td>\n",
       "      <td>C85</td>\n",
       "      <td>C</td>\n",
       "    </tr>\n",
       "    <tr>\n",
       "      <th>2</th>\n",
       "      <td>1</td>\n",
       "      <td>3</td>\n",
       "      <td>female</td>\n",
       "      <td>26.0</td>\n",
       "      <td>0</td>\n",
       "      <td>0</td>\n",
       "      <td>7.9250</td>\n",
       "      <td>NaN</td>\n",
       "      <td>S</td>\n",
       "    </tr>\n",
       "    <tr>\n",
       "      <th>3</th>\n",
       "      <td>1</td>\n",
       "      <td>1</td>\n",
       "      <td>female</td>\n",
       "      <td>35.0</td>\n",
       "      <td>1</td>\n",
       "      <td>0</td>\n",
       "      <td>53.1000</td>\n",
       "      <td>C123</td>\n",
       "      <td>S</td>\n",
       "    </tr>\n",
       "    <tr>\n",
       "      <th>4</th>\n",
       "      <td>0</td>\n",
       "      <td>3</td>\n",
       "      <td>male</td>\n",
       "      <td>35.0</td>\n",
       "      <td>0</td>\n",
       "      <td>0</td>\n",
       "      <td>8.0500</td>\n",
       "      <td>NaN</td>\n",
       "      <td>S</td>\n",
       "    </tr>\n",
       "  </tbody>\n",
       "</table>\n",
       "</div>"
      ],
      "text/plain": [
       "   Survived  Pclass     Sex   Age  SibSp  Parch     Fare Cabin Embarked\n",
       "0         0       3    male  22.0      1      0   7.2500   NaN        S\n",
       "1         1       1  female  38.0      1      0  71.2833   C85        C\n",
       "2         1       3  female  26.0      0      0   7.9250   NaN        S\n",
       "3         1       1  female  35.0      1      0  53.1000  C123        S\n",
       "4         0       3    male  35.0      0      0   8.0500   NaN        S"
      ]
     },
     "execution_count": 22,
     "metadata": {},
     "output_type": "execute_result"
    }
   ],
   "source": [
    "#удаляем PassengerId, Name, Ticket\n",
    "dataset=dataset.drop(['PassengerId','Name','Ticket'],axis=1)\n",
    "dataset.head()"
   ]
  },
  {
   "cell_type": "code",
   "execution_count": 23,
   "metadata": {},
   "outputs": [
    {
     "data": {
      "text/html": [
       "<div>\n",
       "<style scoped>\n",
       "    .dataframe tbody tr th:only-of-type {\n",
       "        vertical-align: middle;\n",
       "    }\n",
       "\n",
       "    .dataframe tbody tr th {\n",
       "        vertical-align: top;\n",
       "    }\n",
       "\n",
       "    .dataframe thead th {\n",
       "        text-align: right;\n",
       "    }\n",
       "</style>\n",
       "<table border=\"1\" class=\"dataframe\">\n",
       "  <thead>\n",
       "    <tr style=\"text-align: right;\">\n",
       "      <th></th>\n",
       "      <th>Survived</th>\n",
       "      <th>Pclass</th>\n",
       "      <th>Sex</th>\n",
       "      <th>Age</th>\n",
       "      <th>SibSp</th>\n",
       "      <th>Parch</th>\n",
       "      <th>Fare</th>\n",
       "      <th>Cabin</th>\n",
       "      <th>Embarked</th>\n",
       "    </tr>\n",
       "  </thead>\n",
       "  <tbody>\n",
       "    <tr>\n",
       "      <th>0</th>\n",
       "      <td>0</td>\n",
       "      <td>3</td>\n",
       "      <td>1</td>\n",
       "      <td>22.0</td>\n",
       "      <td>1</td>\n",
       "      <td>0</td>\n",
       "      <td>7.2500</td>\n",
       "      <td>NaN</td>\n",
       "      <td>S</td>\n",
       "    </tr>\n",
       "    <tr>\n",
       "      <th>1</th>\n",
       "      <td>1</td>\n",
       "      <td>1</td>\n",
       "      <td>0</td>\n",
       "      <td>38.0</td>\n",
       "      <td>1</td>\n",
       "      <td>0</td>\n",
       "      <td>71.2833</td>\n",
       "      <td>C85</td>\n",
       "      <td>C</td>\n",
       "    </tr>\n",
       "    <tr>\n",
       "      <th>2</th>\n",
       "      <td>1</td>\n",
       "      <td>3</td>\n",
       "      <td>0</td>\n",
       "      <td>26.0</td>\n",
       "      <td>0</td>\n",
       "      <td>0</td>\n",
       "      <td>7.9250</td>\n",
       "      <td>NaN</td>\n",
       "      <td>S</td>\n",
       "    </tr>\n",
       "    <tr>\n",
       "      <th>3</th>\n",
       "      <td>1</td>\n",
       "      <td>1</td>\n",
       "      <td>0</td>\n",
       "      <td>35.0</td>\n",
       "      <td>1</td>\n",
       "      <td>0</td>\n",
       "      <td>53.1000</td>\n",
       "      <td>C123</td>\n",
       "      <td>S</td>\n",
       "    </tr>\n",
       "    <tr>\n",
       "      <th>4</th>\n",
       "      <td>0</td>\n",
       "      <td>3</td>\n",
       "      <td>1</td>\n",
       "      <td>35.0</td>\n",
       "      <td>0</td>\n",
       "      <td>0</td>\n",
       "      <td>8.0500</td>\n",
       "      <td>NaN</td>\n",
       "      <td>S</td>\n",
       "    </tr>\n",
       "  </tbody>\n",
       "</table>\n",
       "</div>"
      ],
      "text/plain": [
       "   Survived  Pclass  Sex   Age  SibSp  Parch     Fare Cabin Embarked\n",
       "0         0       3    1  22.0      1      0   7.2500   NaN        S\n",
       "1         1       1    0  38.0      1      0  71.2833   C85        C\n",
       "2         1       3    0  26.0      0      0   7.9250   NaN        S\n",
       "3         1       1    0  35.0      1      0  53.1000  C123        S\n",
       "4         0       3    1  35.0      0      0   8.0500   NaN        S"
      ]
     },
     "execution_count": 23,
     "metadata": {},
     "output_type": "execute_result"
    }
   ],
   "source": [
    "#функция преобразующая пол \n",
    "def priobr_sex(sex):\n",
    "    if sex=='male':\n",
    "        return 1\n",
    "    elif sex=='female':\n",
    "        return 0\n",
    "    \n",
    "dataset['Sex'] = dataset['Sex'].apply(priobr_sex)\n",
    "dataset.head()"
   ]
  },
  {
   "cell_type": "code",
   "execution_count": 24,
   "metadata": {},
   "outputs": [
    {
     "data": {
      "text/plain": [
       "0.0"
      ]
     },
     "execution_count": 24,
     "metadata": {},
     "output_type": "execute_result"
    }
   ],
   "source": [
    "#Заполняем возраст через среднее\n",
    "dataset['Age'] = dataset['Age'].fillna(dataset['Age'].mean())\n",
    "(dataset['Age'].isnull()).mean()"
   ]
  },
  {
   "cell_type": "code",
   "execution_count": 25,
   "metadata": {},
   "outputs": [
    {
     "name": "stderr",
     "output_type": "stream",
     "text": [
      "<ipython-input-25-d6439218d592>:3: SettingWithCopyWarning: \n",
      "A value is trying to be set on a copy of a slice from a DataFrame\n",
      "\n",
      "See the caveats in the documentation: https://pandas.pydata.org/pandas-docs/stable/user_guide/indexing.html#returning-a-view-versus-a-copy\n",
      "  dataset['Cabin'][dataset['Cabin']!=0] = 1\n"
     ]
    },
    {
     "data": {
      "text/html": [
       "<div>\n",
       "<style scoped>\n",
       "    .dataframe tbody tr th:only-of-type {\n",
       "        vertical-align: middle;\n",
       "    }\n",
       "\n",
       "    .dataframe tbody tr th {\n",
       "        vertical-align: top;\n",
       "    }\n",
       "\n",
       "    .dataframe thead th {\n",
       "        text-align: right;\n",
       "    }\n",
       "</style>\n",
       "<table border=\"1\" class=\"dataframe\">\n",
       "  <thead>\n",
       "    <tr style=\"text-align: right;\">\n",
       "      <th></th>\n",
       "      <th>Survived</th>\n",
       "      <th>Pclass</th>\n",
       "      <th>Sex</th>\n",
       "      <th>Age</th>\n",
       "      <th>SibSp</th>\n",
       "      <th>Parch</th>\n",
       "      <th>Fare</th>\n",
       "      <th>Cabin</th>\n",
       "      <th>Embarked</th>\n",
       "    </tr>\n",
       "  </thead>\n",
       "  <tbody>\n",
       "    <tr>\n",
       "      <th>0</th>\n",
       "      <td>0</td>\n",
       "      <td>3</td>\n",
       "      <td>1</td>\n",
       "      <td>22.0</td>\n",
       "      <td>1</td>\n",
       "      <td>0</td>\n",
       "      <td>7.2500</td>\n",
       "      <td>0</td>\n",
       "      <td>S</td>\n",
       "    </tr>\n",
       "    <tr>\n",
       "      <th>1</th>\n",
       "      <td>1</td>\n",
       "      <td>1</td>\n",
       "      <td>0</td>\n",
       "      <td>38.0</td>\n",
       "      <td>1</td>\n",
       "      <td>0</td>\n",
       "      <td>71.2833</td>\n",
       "      <td>1</td>\n",
       "      <td>C</td>\n",
       "    </tr>\n",
       "    <tr>\n",
       "      <th>2</th>\n",
       "      <td>1</td>\n",
       "      <td>3</td>\n",
       "      <td>0</td>\n",
       "      <td>26.0</td>\n",
       "      <td>0</td>\n",
       "      <td>0</td>\n",
       "      <td>7.9250</td>\n",
       "      <td>0</td>\n",
       "      <td>S</td>\n",
       "    </tr>\n",
       "    <tr>\n",
       "      <th>3</th>\n",
       "      <td>1</td>\n",
       "      <td>1</td>\n",
       "      <td>0</td>\n",
       "      <td>35.0</td>\n",
       "      <td>1</td>\n",
       "      <td>0</td>\n",
       "      <td>53.1000</td>\n",
       "      <td>1</td>\n",
       "      <td>S</td>\n",
       "    </tr>\n",
       "    <tr>\n",
       "      <th>4</th>\n",
       "      <td>0</td>\n",
       "      <td>3</td>\n",
       "      <td>1</td>\n",
       "      <td>35.0</td>\n",
       "      <td>0</td>\n",
       "      <td>0</td>\n",
       "      <td>8.0500</td>\n",
       "      <td>0</td>\n",
       "      <td>S</td>\n",
       "    </tr>\n",
       "  </tbody>\n",
       "</table>\n",
       "</div>"
      ],
      "text/plain": [
       "   Survived  Pclass  Sex   Age  SibSp  Parch     Fare Cabin Embarked\n",
       "0         0       3    1  22.0      1      0   7.2500     0        S\n",
       "1         1       1    0  38.0      1      0  71.2833     1        C\n",
       "2         1       3    0  26.0      0      0   7.9250     0        S\n",
       "3         1       1    0  35.0      1      0  53.1000     1        S\n",
       "4         0       3    1  35.0      0      0   8.0500     0        S"
      ]
     },
     "execution_count": 25,
     "metadata": {},
     "output_type": "execute_result"
    }
   ],
   "source": [
    "#приобразуем Cabin\n",
    "dataset['Cabin'] =dataset['Cabin'].fillna(0)\n",
    "dataset['Cabin'][dataset['Cabin']!=0] = 1\n",
    "dataset.head()"
   ]
  },
  {
   "cell_type": "code",
   "execution_count": 26,
   "metadata": {},
   "outputs": [
    {
     "data": {
      "text/html": [
       "<div>\n",
       "<style scoped>\n",
       "    .dataframe tbody tr th:only-of-type {\n",
       "        vertical-align: middle;\n",
       "    }\n",
       "\n",
       "    .dataframe tbody tr th {\n",
       "        vertical-align: top;\n",
       "    }\n",
       "\n",
       "    .dataframe thead th {\n",
       "        text-align: right;\n",
       "    }\n",
       "</style>\n",
       "<table border=\"1\" class=\"dataframe\">\n",
       "  <thead>\n",
       "    <tr style=\"text-align: right;\">\n",
       "      <th></th>\n",
       "      <th>Survived</th>\n",
       "      <th>Pclass</th>\n",
       "      <th>Sex</th>\n",
       "      <th>Age</th>\n",
       "      <th>SibSp</th>\n",
       "      <th>Parch</th>\n",
       "      <th>Fare</th>\n",
       "      <th>Cabin</th>\n",
       "      <th>Embarked</th>\n",
       "    </tr>\n",
       "  </thead>\n",
       "  <tbody>\n",
       "    <tr>\n",
       "      <th>0</th>\n",
       "      <td>0</td>\n",
       "      <td>3</td>\n",
       "      <td>1</td>\n",
       "      <td>22.0</td>\n",
       "      <td>1</td>\n",
       "      <td>0</td>\n",
       "      <td>7.2500</td>\n",
       "      <td>0</td>\n",
       "      <td>0</td>\n",
       "    </tr>\n",
       "    <tr>\n",
       "      <th>1</th>\n",
       "      <td>1</td>\n",
       "      <td>1</td>\n",
       "      <td>0</td>\n",
       "      <td>38.0</td>\n",
       "      <td>1</td>\n",
       "      <td>0</td>\n",
       "      <td>71.2833</td>\n",
       "      <td>1</td>\n",
       "      <td>1</td>\n",
       "    </tr>\n",
       "    <tr>\n",
       "      <th>2</th>\n",
       "      <td>1</td>\n",
       "      <td>3</td>\n",
       "      <td>0</td>\n",
       "      <td>26.0</td>\n",
       "      <td>0</td>\n",
       "      <td>0</td>\n",
       "      <td>7.9250</td>\n",
       "      <td>0</td>\n",
       "      <td>0</td>\n",
       "    </tr>\n",
       "    <tr>\n",
       "      <th>3</th>\n",
       "      <td>1</td>\n",
       "      <td>1</td>\n",
       "      <td>0</td>\n",
       "      <td>35.0</td>\n",
       "      <td>1</td>\n",
       "      <td>0</td>\n",
       "      <td>53.1000</td>\n",
       "      <td>1</td>\n",
       "      <td>0</td>\n",
       "    </tr>\n",
       "    <tr>\n",
       "      <th>4</th>\n",
       "      <td>0</td>\n",
       "      <td>3</td>\n",
       "      <td>1</td>\n",
       "      <td>35.0</td>\n",
       "      <td>0</td>\n",
       "      <td>0</td>\n",
       "      <td>8.0500</td>\n",
       "      <td>0</td>\n",
       "      <td>0</td>\n",
       "    </tr>\n",
       "  </tbody>\n",
       "</table>\n",
       "</div>"
      ],
      "text/plain": [
       "   Survived  Pclass  Sex   Age  SibSp  Parch     Fare Cabin  Embarked\n",
       "0         0       3    1  22.0      1      0   7.2500     0         0\n",
       "1         1       1    0  38.0      1      0  71.2833     1         1\n",
       "2         1       3    0  26.0      0      0   7.9250     0         0\n",
       "3         1       1    0  35.0      1      0  53.1000     1         0\n",
       "4         0       3    1  35.0      0      0   8.0500     0         0"
      ]
     },
     "execution_count": 26,
     "metadata": {},
     "output_type": "execute_result"
    }
   ],
   "source": [
    "#фунция приобразующая S,C,Q в 0,1,2\n",
    "def priobr_cabin(cabin):\n",
    "    if cabin == 'S':\n",
    "        return 0\n",
    "    elif cabin == 'C':\n",
    "        return 1\n",
    "    elif cabin == 'Q':\n",
    "        return 2\n",
    "dataset['Embarked'] = dataset['Embarked'].fillna('S')\n",
    "dataset['Embarked'] = dataset['Embarked'].apply(priobr_cabin)\n",
    "dataset.head()"
   ]
  },
  {
   "cell_type": "markdown",
   "metadata": {},
   "source": [
    "### Визуализации"
   ]
  },
  {
   "cell_type": "code",
   "execution_count": 27,
   "metadata": {},
   "outputs": [
    {
     "data": {
      "text/plain": [
       "<matplotlib.legend.Legend at 0xbbb0280>"
      ]
     },
     "execution_count": 27,
     "metadata": {},
     "output_type": "execute_result"
    },
    {
     "data": {
      "image/png": "[encoded data removed]",
      "text/plain": [
       "<Figure size 432x288 with 1 Axes>"
      ]
     },
     "metadata": {
      "needs_background": "light"
     },
     "output_type": "display_data"
    }
   ],
   "source": [
    "#Визуализация выживших и умерших по соц. положению\n",
    "plt.xlabel('Pclass')\n",
    "plt.ylabel('Количество людей ')\n",
    "plt.hist(x=dataset[dataset['Survived']==1]['Pclass'], bins=6,color='blue')\n",
    "plt.hist(x=dataset[dataset['Survived']==0]['Pclass'], bins=7,color='red')\n",
    "life = mpatches.Patch(color='blue', label='Количество выживших людей по классам')\n",
    "unlife = mpatches.Patch(color='red', label='Количество умерших людей по классам')\n",
    "plt.legend(handles=[life,unlife])"
   ]
  },
  {
   "cell_type": "code",
   "execution_count": 28,
   "metadata": {},
   "outputs": [
    {
     "data": {
      "text/plain": [
       "<matplotlib.legend.Legend at 0xbbc9550>"
      ]
     },
     "execution_count": 28,
     "metadata": {},
     "output_type": "execute_result"
    },
    {
     "data": {
      "image/png": "[encoded data removed]",
      "text/plain": [
       "<Figure size 432x288 with 1 Axes>"
      ]
     },
     "metadata": {
      "needs_background": "light"
     },
     "output_type": "display_data"
    }
   ],
   "source": [
    "#Распределение выживших и у умерших по полу\n",
    "plt.xlabel('Sex')\n",
    "plt.ylabel('Количество людей ')\n",
    "plt.hist(x=dataset[dataset['Survived']==1]['Sex'], bins=4,color='blue')\n",
    "plt.hist(x=dataset[dataset['Survived']==0]['Sex'], bins=5,color='red')\n",
    "life = mpatches.Patch(color='blue', label='Количество выживших людей по полу')\n",
    "unlife = mpatches.Patch(color='red', label='Количество умерших людей по полу')\n",
    "plt.legend(handles=[life,unlife])"
   ]
  },
  {
   "cell_type": "code",
   "execution_count": 29,
   "metadata": {},
   "outputs": [
    {
     "data": {
      "text/plain": [
       "<matplotlib.legend.Legend at 0xbc53340>"
      ]
     },
     "execution_count": 29,
     "metadata": {},
     "output_type": "execute_result"
    },
    {
     "data": {
      "image/png": "[encoded data removed]",
      "text/plain": [
       "<Figure size 1800x720 with 2 Axes>"
      ]
     },
     "metadata": {
      "needs_background": "light"
     },
     "output_type": "display_data"
    }
   ],
   "source": [
    "#Распределение выживших и у умерших по возрастам\n",
    "fig = plt.figure(figsize=(25,10))\n",
    "plt.xlabel('Age')\n",
    "plt.ylabel('Количество людей ')\n",
    "plt.subplot(1, 2, 1)\n",
    "plt.hist(x=dataset[dataset['Survived']==1]['Age'], bins=80,color='blue')\n",
    "plt.subplot(1, 2, 2)\n",
    "plt.hist(x=dataset[dataset['Survived']==0]['Age'], bins=85,color='red')\n",
    "life = mpatches.Patch(color='blue', label='Количество выживших людей по возрасту')\n",
    "unlife = mpatches.Patch(color='red', label='Количество умерших людей по возрасту')\n",
    "plt.legend(handles=[life,unlife])"
   ]
  },
  {
   "cell_type": "code",
   "execution_count": 30,
   "metadata": {},
   "outputs": [
    {
     "data": {
      "text/plain": [
       "<matplotlib.legend.Legend at 0xbdff6a0>"
      ]
     },
     "execution_count": 30,
     "metadata": {},
     "output_type": "execute_result"
    },
    {
     "data": {
      "image/png": "[encoded data removed]",
      "text/plain": [
       "<Figure size 720x360 with 1 Axes>"
      ]
     },
     "metadata": {
      "needs_background": "light"
     },
     "output_type": "display_data"
    }
   ],
   "source": [
    "# Распределение выживших и умерших от количества братьев и сестер\n",
    "fig = plt.figure(figsize=(10,5))\n",
    "plt.xlabel('SibSp')\n",
    "plt.ylabel('Количество людей ')\n",
    "plt.hist(x=dataset[dataset['Survived']==1]['SibSp'], bins=8,color='blue',histtype='step')\n",
    "plt.hist(x=dataset[dataset['Survived']==0]['SibSp'], bins=8,color='red',histtype='step')\n",
    "life = mpatches.Patch(color='blue', label='Количество выживших людей от количества братьев и сестер')\n",
    "unlife = mpatches.Patch(color='red', label='Количество умерших людей от количества братьев и сестер')\n",
    "plt.legend(handles=[life,unlife])"
   ]
  },
  {
   "cell_type": "code",
   "execution_count": 31,
   "metadata": {},
   "outputs": [
    {
     "data": {
      "text/plain": [
       "<matplotlib.legend.Legend at 0xc457790>"
      ]
     },
     "execution_count": 31,
     "metadata": {},
     "output_type": "execute_result"
    },
    {
     "data": {
      "image/png": "[encoded data removed]",
      "text/plain": [
       "<Figure size 720x360 with 1 Axes>"
      ]
     },
     "metadata": {
      "needs_background": "light"
     },
     "output_type": "display_data"
    }
   ],
   "source": [
    "# Распределение выживших и умерших по цене билета Fare\n",
    "fig = plt.figure(figsize=(10,5))\n",
    "plt.xlabel('Fare')\n",
    "plt.ylabel('Количество людей ')\n",
    "plt.hist(x=dataset[dataset['Survived']==1]['Fare'], bins=10,color='blue',histtype='step')\n",
    "plt.hist(x=dataset[dataset['Survived']==0]['Fare'], bins=11,color='red',histtype='step')\n",
    "life = mpatches.Patch(color='blue', label='Количество выживших людей по цене билета')\n",
    "unlife = mpatches.Patch(color='red', label='Количество умерших людей по цене билета')\n",
    "plt.legend(handles=[life,unlife])"
   ]
  },
  {
   "cell_type": "markdown",
   "metadata": {},
   "source": [
    "## Выводы по визуализации \n",
    "- По первому графику можно сделать вывод, что люди из 3-ого класса умирают чаше всех остальных. Выживают же чаще всех люди из первого класса. Люди из второго класса могут с примерно равной вероятностью выжить или умереть\n",
    "- По второму графику можно сделать вывод,что мужчины значительно чаще умирали на титанике чем женщины.При том женщины выживали примерно в 2 раза чаще чем умирали \n",
    "- По третьему графику можно сделать вывод, что количество выживших и умерших людей примерно 30 лет больше всех остальных.\n",
    "- По четвертому графику можно сделать вывод, что если у пассижира нету братьв или сестер, то он с большей вероятностью погибнет\n",
    "- По пятому графику можно сделать вывод,что больше всех умирают люди с билетами до примерно 100 долларов. Также можно сказать, что люди чья стоимость билетов находится около 500 долларов не умирают."
   ]
  },
  {
   "cell_type": "markdown",
   "metadata": {},
   "source": [
    "# Реализация алгоритма k ближайших соседей с использованием весов и наивного байесовского классификатора"
   ]
  },
  {
   "cell_type": "markdown",
   "metadata": {},
   "source": [
    "### Фунция для подсчета метрик классификации и разделение выборки на тест и трейн"
   ]
  },
  {
   "cell_type": "code",
   "execution_count": 32,
   "metadata": {},
   "outputs": [],
   "source": [
    "def metrics(pred, Y_test):\n",
    "    \n",
    "    \n",
    "    print(\"Accuracy: \", (pred==Y_test).mean())\n",
    "    print(\"Pprecision: \", precision_score(pred, Y_test, average='micro'))\n",
    "    print(\"Recall: \", recall_score(pred, Y_test, average='micro'))\n",
    "    print(\"F1: \", f1_score(pred, Y_test, average='micro'))\n"
   ]
  },
  {
   "cell_type": "code",
   "execution_count": 33,
   "metadata": {},
   "outputs": [],
   "source": [
    "#разбиваю выборку на трейн и тест. Для теста выделяю 30% выборки.\n",
    "X_train, X_test, y_train, y_test = train_test_split(dataset.drop('Survived',axis=1), dataset['Survived'], test_size=0.3, random_state=42,shuffle=True)"
   ]
  },
  {
   "cell_type": "markdown",
   "metadata": {},
   "source": [
    "### Наивный байесовский классификатор"
   ]
  },
  {
   "cell_type": "code",
   "execution_count": 34,
   "metadata": {},
   "outputs": [],
   "source": [
    "#мой наивный байесовский классификатор реализован в виде класса NaivBaisClassificator в нем есть 2 главных публичный метода \n",
    "#fit - для обучения и predict - для предсказания , остальные методы приватные и используются в публичных.\n",
    "class NaivBaisClassificator:\n",
    "    \n",
    "    #при инициализации мы создаем out - это словарь. Ключи этого словаря будут название фич. А значения по ключу будет \n",
    "    #датафрейм.\n",
    "    #Каждый датафрейм является Likelihood Table т.е. таблицей правдоподобия. На основе этих таблиц в методе -onepredict будут\n",
    "    #делаться предскания о пренадлежности объекта к классу 1 или 0\n",
    "    def __init__(self):\n",
    "        self.out={}\n",
    "    \n",
    "    #метод _make_likelihood_Table считает Likelihood Table для конкретного признака \n",
    "    def _make_likelihood_Table(self,labels_and_serie):\n",
    "        a=labels_and_serie[labels_and_serie['Survived']==1][labels_and_serie.keys()[1]].value_counts()/len(labels_and_serie[labels_and_serie['Survived']==1][labels_and_serie.keys()[1]])\n",
    "        b=labels_and_serie[labels_and_serie['Survived']==0][labels_and_serie.keys()[1]].value_counts()/len(labels_and_serie[labels_and_serie['Survived']==0][labels_and_serie.keys()[1]])\n",
    "        out_dataframe=DataFrame()\n",
    "        if set(a.keys())==set(b.keys()):\n",
    "        \n",
    "            out_dataframe[a.name+'_1']=a\n",
    "            out_dataframe[b.name+'_0']=b\n",
    "            return out_dataframe\n",
    "        if len(set(a.keys())-set(b.keys()))!=0:\n",
    "            for m in list(set(a.keys())-set(b.keys())):\n",
    "                b[m]=1/len(labels_and_serie[labels_and_serie['Survived']==0][labels_and_serie.keys()[1]])\n",
    "        if len(set(b.keys())-set(a.keys()))!=0:\n",
    "            for m in list(set(b.keys())-set(a.keys())):\n",
    "                        a[m]=1/len(labels_and_serie[labels_and_serie['Survived']==1][labels_and_serie.keys()[1]])\n",
    "        out_dataframe[a.name+'_1']=a\n",
    "        out_dataframe[b.name+'_0']=b\n",
    "        return out_dataframe\n",
    "    \n",
    "    \n",
    "    #метод fit заполняет словарь out датафреймами, которые являются Likelihood Table\n",
    "    def fit(self,train,test):\n",
    "        data=DataFrame()\n",
    "        data=train.copy()\n",
    "        data['Survived']=test.values\n",
    "        dict_of_df={}\n",
    "        for i in data.columns[0:-1]:\n",
    "            dict_of_df[i]=self._make_likelihood_Table(data[['Survived',i]])\n",
    "        self.out=dict_of_df\n",
    "    \n",
    "    \n",
    "    #метод _onepredict делает предсказания класса для одного объекта используя словарь out \n",
    "    def _onepredict(self,test):\n",
    "        zero=1\n",
    "        one=1\n",
    "        for i in test.keys():\n",
    "            #использую отловщик ошибок, потому что возможна такая ситуация, что нет ключа в таблице на обучении, это возможно\n",
    "            #если не было этого значения в обучающей выборке. Особенно это актуально для параметров являющимися действительными\n",
    "            #числами. К примеру Fare. Я не удалил этот признак, потому что во первых он все-таки может быть в обуч выборке\n",
    "            # во вторых он может быть полезен в других моделях\n",
    "            try:\n",
    "                one=one*float(self.out[i][i+'_1'][test[i]])\n",
    "                zero=zero*float(self.out[i][i+'_0'][test[i]])\n",
    "            except:\n",
    "                one=one*1\n",
    "                zero=zero*1\n",
    "        if zero>one:\n",
    "        \n",
    "            return 0\n",
    "        else:\n",
    "        \n",
    "            return 1\n",
    "        \n",
    "    #метод predict использует метод _onepredict для предсказания класса для одного объекта, при помощи цикла метод predict делает \n",
    "    #предсказания для каждлго объекта  и возвращает в итоге список меток для каждого объекта\n",
    "    def predict(self,test_dataset):\n",
    "        final_predict=[]\n",
    "        for k in range(test_dataset.shape[0]):\n",
    "            final_predict.append(self._onepredict(test_dataset.iloc[k]))\n",
    "        return final_predict\n",
    "    "
   ]
  },
  {
   "cell_type": "code",
   "execution_count": 35,
   "metadata": {},
   "outputs": [
    {
     "name": "stdout",
     "output_type": "stream",
     "text": [
      "Метрики на обучающей выборки \n",
      "Accuracy:  0.7929373996789727\n",
      "Pprecision:  0.7929373996789727\n",
      "Recall:  0.7929373996789727\n",
      "F1:  0.7929373996789727\n",
      "Метрики на тестовой выборки \n",
      "Accuracy:  0.7686567164179104\n",
      "Pprecision:  0.7686567164179104\n",
      "Recall:  0.7686567164179104\n",
      "F1:  0.7686567164179104\n"
     ]
    }
   ],
   "source": [
    "#обучаю свою модель модель\n",
    "my_NaivBais=NaivBaisClassificator()\n",
    "my_NaivBais.fit(X_train,y_train)\n",
    "#делаем предсказания на трейне и на тесте и смотрим метрики\n",
    "print('Метрики на обучающей выборки ')\n",
    "metrics(my_NaivBais.predict(X_train),y_train)\n",
    "print('Метрики на тестовой выборки ')\n",
    "metrics(my_NaivBais.predict(X_test),y_test)"
   ]
  },
  {
   "cell_type": "code",
   "execution_count": 36,
   "metadata": {},
   "outputs": [
    {
     "name": "stdout",
     "output_type": "stream",
     "text": [
      "Метрики на обучающей выборки \n",
      "Accuracy:  0.7897271268057785\n",
      "Pprecision:  0.7897271268057785\n",
      "Recall:  0.7897271268057785\n",
      "F1:  0.7897271268057785\n",
      "Метрики на тестовой выборки \n",
      "Accuracy:  0.7910447761194029\n",
      "Pprecision:  0.7910447761194029\n",
      "Recall:  0.7910447761194029\n",
      "F1:  0.7910447761194029\n"
     ]
    }
   ],
   "source": [
    "#обучаем моледь из sklearn\n",
    "NaivBais=BernoulliNB()\n",
    "NaivBais.fit(X_train,y_train)\n",
    "#делаем предсказания на трейне и на тесте и смотрим метрики\n",
    "print('Метрики на обучающей выборки ')\n",
    "metrics(NaivBais.predict(X_train),y_train)\n",
    "print('Метрики на тестовой выборки ')\n",
    "metrics(NaivBais.predict(X_test),y_test)"
   ]
  },
  {
   "cell_type": "markdown",
   "metadata": {},
   "source": [
    "#### Выводы по метрикам \n",
    "- Моя  модель не переобучились, потому что разница метрик на трейне и на тесте моей модели не велика.А sklearn модели вообще   метрики выше на тесте чем на трейне  \n",
    "- Модель из sklearn чуть-чуть лучще предсказывает на тесте ,а моя чуть лучше на трейне. Примерно на 0.02-0.03 в каждой метрики \n",
    "- Метрики обоих моделей находятся между 0.76-0.80. "
   ]
  },
  {
   "cell_type": "markdown",
   "metadata": {},
   "source": [
    "### Алгоритм k ближайших соседей с использованием весов"
   ]
  },
  {
   "cell_type": "code",
   "execution_count": 37,
   "metadata": {},
   "outputs": [],
   "source": [
    "#мой Метод k-ближайших соседей реализован в виде класса Knn с 2 публичными методами fit и predict. fit -нужен для обучения.\n",
    "# predict для предсказания.\n",
    "\n",
    "class KNN:\n",
    "    #при инициализации в конструктор передается 2 параметра k и h. k- количство соседей , h -длинна парзеновского окна\n",
    "    def __init__(self, k,h=1):\n",
    "        self.h=h\n",
    "        self.k = k\n",
    "    \n",
    "    #получаю обучающую выборку    \n",
    "    def fit(self, X, y):\n",
    "        self.X_train = X\n",
    "        self.y_train = y\n",
    "        \n",
    "   \n",
    "    #метод _jadro_K является приватным. Он реализует вычисление Гауссовского ядра,используемового в парзеновском окне\n",
    "    def _jadro_K(self,z):\n",
    "        \n",
    "        return ((2*pi)**(-0.5))*exp(-0.5*z**(2))\n",
    "    #метод predict классифицирует объекты\n",
    "    def predict(self, X_test):\n",
    "        output = []#предсказанные метки \n",
    "        for i in range(len(X_test)):\n",
    "            d = []#растояния между тестовым объектом и объектами обучающей выборки\n",
    "            votes = []#метки ближайших объектов\n",
    "            for j in range(len(X_train)):\n",
    "                #считаем растояние \n",
    "                dist = scipy.spatial.distance.euclidean(X_train.iloc[j] , X_test.iloc[i])\n",
    "                 #считается расстояние и применяется парзеновское окно с гауссовским ядром\n",
    "                #для реализации весов. Чем меньше h , тем меньше мы учитываем далекие объекты\n",
    "                weight=self._jadro_K(scipy.spatial.distance.euclidean(X_train.iloc[j] , X_test.iloc[i])/self.h)\n",
    "                d.append([dist, j,weight])\n",
    "            \n",
    "            #сортируем расстояния до тестового объекта \n",
    "            d.sort()\n",
    "            d = d[0:self.k]#берем k ближайших тестовых объектов\n",
    "            zero_score=0\n",
    "            one_score=0\n",
    "            #достаем метки\n",
    "            for a, j, k in d:\n",
    "                votes.append(y_train.iloc[j])\n",
    "            #считаем частотность 1 и 0 учитывая веса\n",
    "            for j in range(len(votes)):\n",
    "                if votes[j]==0:\n",
    "                    zero_score=zero_score+1*d[j][2]\n",
    "                if votes[j]==1:\n",
    "                    one_score=one_score+1*d[j][2]\n",
    "            #смотрим какого класса больше\n",
    "            if zero_score>one_score:\n",
    "                ans=0\n",
    "            if  one_score>zero_score:\n",
    "                ans=1\n",
    "            output.append(ans)\n",
    "        return output\n",
    "    "
   ]
  },
  {
   "cell_type": "code",
   "execution_count": 38,
   "metadata": {},
   "outputs": [
    {
     "name": "stdout",
     "output_type": "stream",
     "text": [
      "Метрики на обучающей выборки \n",
      "Accuracy:  0.8057784911717496\n",
      "Pprecision:  0.8057784911717496\n",
      "Recall:  0.8057784911717496\n",
      "F1:  0.8057784911717496\n",
      "Метрики на тестовой выборки \n",
      "Accuracy:  0.7052238805970149\n",
      "Pprecision:  0.7052238805970149\n",
      "Recall:  0.7052238805970149\n",
      "F1:  0.7052238805970149\n",
      "Wall time: 7min 47s\n"
     ]
    }
   ],
   "source": [
    "%%time\n",
    "#обучаю свою модель с k=5 и h=0.01 . Что значит,смотреть по 5  соседям и использовать парзеновское окно равное 5\n",
    "my_KNN = KNN(5,5)\n",
    "my_KNN.fit(X_train, y_train)\n",
    "#делаем предсказания на трейне и на тесте и смотрим метрики\n",
    "print('Метрики на обучающей выборки ')\n",
    "metrics(my_KNN.predict(X_train),y_train)\n",
    "print('Метрики на тестовой выборки ')\n",
    "metrics(my_KNN.predict(X_test),y_test)"
   ]
  },
  {
   "cell_type": "code",
   "execution_count": 39,
   "metadata": {},
   "outputs": [
    {
     "name": "stdout",
     "output_type": "stream",
     "text": [
      "Метрики на обучающей выборки \n",
      "Accuracy:  0.9823434991974318\n",
      "Pprecision:  0.9823434991974318\n",
      "Recall:  0.9823434991974318\n",
      "F1:  0.9823434991974318\n",
      "Метрики на тестовой выборки \n",
      "Accuracy:  0.7164179104477612\n",
      "Pprecision:  0.7164179104477612\n",
      "Recall:  0.7164179104477612\n",
      "F1:  0.7164179104477613\n",
      "Wall time: 27 ms\n"
     ]
    }
   ],
   "source": [
    "%%time\n",
    "#обучаем моледь из sklearn\n",
    "sk_knn=KNeighborsClassifier(n_neighbors=5,weights='distance')\n",
    "sk_knn.fit(X_train,y_train)\n",
    "#делаем предсказания на трейне и на тесте и смотрим метрики\n",
    "print('Метрики на обучающей выборки ')\n",
    "metrics(sk_knn.predict(X_train),y_train)\n",
    "print('Метрики на тестовой выборки ')\n",
    "metrics(sk_knn.predict(X_test),y_test)"
   ]
  },
  {
   "cell_type": "markdown",
   "metadata": {},
   "source": [
    "#### Выводы по метрикам\n",
    "- Разница метрик на тесте между моей моделью и моделью из sklearn минимальна\n",
    "- Сильного переобучения не наблюдается у обоих моделей. Тем не менее модель из sklearn более склона к переобучению чем моя , потому что разница метрик на трейне и тесте модели из sklearn в 3 раза  больше чем разница метрик на трейни и тесте моей модели.Это разница в переобучаемости вызвана на мой взгляд тем, как считаются веса в модели. Моя модель использует парзеновское окно с гауссовским ядром для расчета веса, а модель из skleark\n",
    "использует формулу w_i=1/p(x,x_i), где p-функция рассчета расстояния.\n",
    "- Также моя модель обучается значительно дольше чем модель из sklearn. На мой взгяд это обусловленно тем, что моя модель на питоне написана, а модель из sklearn написано на c/c++."
   ]
  },
  {
   "cell_type": "markdown",
   "metadata": {},
   "source": [
    "### На последок запишим наш измененный датасет в файл для  использования в следующей лабораторной"
   ]
  },
  {
   "cell_type": "code",
   "execution_count": 40,
   "metadata": {},
   "outputs": [],
   "source": [
    "dataset.to_csv('remastered_dataset.csv',index=False)"
   ]
  },
  {
   "cell_type": "code",
   "execution_count": null,
   "metadata": {},
   "outputs": [],
   "source": []
  }
 ],
 "metadata": {
  "kernelspec": {
   "display_name": "Python 3",
   "language": "python",
   "name": "python3"
  },
  "language_info": {
   "codemirror_mode": {
    "name": "ipython",
    "version": 3
   },
   "file_extension": ".py",
   "mimetype": "text/x-python",
   "name": "python",
   "nbconvert_exporter": "python",
   "pygments_lexer": "ipython3",
   "version": "3.8.8"
  }
 },
 "nbformat": 4,
 "nbformat_minor": 4
}
